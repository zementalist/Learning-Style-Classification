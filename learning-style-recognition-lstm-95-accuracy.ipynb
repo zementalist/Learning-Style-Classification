{
 "cells": [
  {
   "cell_type": "code",
   "execution_count": 1,
   "id": "aa10ba89",
   "metadata": {
    "_cell_guid": "b1076dfc-b9ad-4769-8c92-a6c4dae69d19",
    "_uuid": "8f2839f25d086af736a60e9eeb907d3b93b6e0e5",
    "execution": {
     "iopub.execute_input": "2021-10-26T16:49:21.444786Z",
     "iopub.status.busy": "2021-10-26T16:49:21.444124Z",
     "iopub.status.idle": "2021-10-26T16:49:26.818349Z",
     "shell.execute_reply": "2021-10-26T16:49:26.817326Z",
     "shell.execute_reply.started": "2021-10-26T15:54:33.534432Z"
    },
    "papermill": {
     "duration": 5.396679,
     "end_time": "2021-10-26T16:49:26.818511",
     "exception": false,
     "start_time": "2021-10-26T16:49:21.421832",
     "status": "completed"
    },
    "tags": []
   },
   "outputs": [],
   "source": [
    "import re\n",
    "import string\n",
    "import numpy as np\n",
    "import pandas as pd\n",
    "\n",
    "from sklearn.preprocessing import LabelEncoder\n",
    "from sklearn.model_selection import train_test_split\n",
    "\n",
    "from keras.models import Sequential\n",
    "from keras.utils import to_categorical\n",
    "from keras.preprocessing.text import Tokenizer\n",
    "from keras.preprocessing.sequence import pad_sequences\n",
    "from keras.layers import Dense, LSTM, Embedding, Bidirectional"
   ]
  },
  {
   "cell_type": "code",
   "execution_count": 2,
   "id": "c398646c",
   "metadata": {
    "_cell_guid": "b1076dfc-b9ad-4769-8c92-a6c4dae69d19",
    "_uuid": "8f2839f25d086af736a60e9eeb907d3b93b6e0e5",
    "execution": {
     "iopub.execute_input": "2021-10-26T16:49:26.843976Z",
     "iopub.status.busy": "2021-10-26T16:49:26.843072Z",
     "iopub.status.idle": "2021-10-26T16:49:26.845407Z",
     "shell.execute_reply": "2021-10-26T16:49:26.845914Z",
     "shell.execute_reply.started": "2021-10-26T15:54:38.523914Z"
    },
    "papermill": {
     "duration": 0.017345,
     "end_time": "2021-10-26T16:49:26.846080",
     "exception": false,
     "start_time": "2021-10-26T16:49:26.828735",
     "status": "completed"
    },
    "tags": []
   },
   "outputs": [],
   "source": [
    "# Text preprocessing function\n",
    "def clean(text):\n",
    "    global str_punc\n",
    "    text = re.sub(r'[^a-zA-Z ]', '', text)\n",
    "    text = text.lower()\n",
    "    return text    \n",
    "\n",
    "str_punc = string.punctuation.replace(',', '').replace(\"'\",'')"
   ]
  },
  {
   "cell_type": "code",
   "execution_count": 3,
   "id": "d5c436ec",
   "metadata": {
    "_cell_guid": "b1076dfc-b9ad-4769-8c92-a6c4dae69d19",
    "_uuid": "8f2839f25d086af736a60e9eeb907d3b93b6e0e5",
    "execution": {
     "iopub.execute_input": "2021-10-26T16:49:26.867828Z",
     "iopub.status.busy": "2021-10-26T16:49:26.867314Z",
     "iopub.status.idle": "2021-10-26T16:49:27.006884Z",
     "shell.execute_reply": "2021-10-26T16:49:27.006328Z",
     "shell.execute_reply.started": "2021-10-26T15:54:45.145281Z"
    },
    "papermill": {
     "duration": 0.152089,
     "end_time": "2021-10-26T16:49:27.007026",
     "exception": false,
     "start_time": "2021-10-26T16:49:26.854937",
     "status": "completed"
    },
    "tags": []
   },
   "outputs": [],
   "source": [
    "# Read dataset & Preprocess text\n",
    "dataset = pd.read_csv('../input/learning-style-vak/dataset.csv')\n",
    "\n",
    "X = dataset['Sentence'].apply(clean)\n",
    "y = dataset['Type']"
   ]
  },
  {
   "cell_type": "code",
   "execution_count": 4,
   "id": "7e435e96",
   "metadata": {
    "_cell_guid": "b1076dfc-b9ad-4769-8c92-a6c4dae69d19",
    "_uuid": "8f2839f25d086af736a60e9eeb907d3b93b6e0e5",
    "execution": {
     "iopub.execute_input": "2021-10-26T16:49:27.029299Z",
     "iopub.status.busy": "2021-10-26T16:49:27.028650Z",
     "iopub.status.idle": "2021-10-26T16:49:27.204411Z",
     "shell.execute_reply": "2021-10-26T16:49:27.203637Z",
     "shell.execute_reply.started": "2021-10-26T15:54:48.145986Z"
    },
    "papermill": {
     "duration": 0.18798,
     "end_time": "2021-10-26T16:49:27.204532",
     "exception": false,
     "start_time": "2021-10-26T16:49:27.016552",
     "status": "completed"
    },
    "tags": []
   },
   "outputs": [
    {
     "data": {
      "text/plain": [
       "<AxesSubplot:>"
      ]
     },
     "execution_count": 4,
     "metadata": {},
     "output_type": "execute_result"
    },
    {
     "data": {
      "image/png": "[encoded data removed]",
      "text/plain": [
       "<Figure size 432x288 with 1 Axes>"
      ]
     },
     "metadata": {
      "needs_background": "light"
     },
     "output_type": "display_data"
    }
   ],
   "source": [
    "# Visualize classes counts\n",
    "dataset['Type'].hist()"
   ]
  },
  {
   "cell_type": "code",
   "execution_count": 5,
   "id": "872d0be8",
   "metadata": {
    "_cell_guid": "b1076dfc-b9ad-4769-8c92-a6c4dae69d19",
    "_uuid": "8f2839f25d086af736a60e9eeb907d3b93b6e0e5",
    "execution": {
     "iopub.execute_input": "2021-10-26T16:49:27.234685Z",
     "iopub.status.busy": "2021-10-26T16:49:27.234011Z",
     "iopub.status.idle": "2021-10-26T16:49:28.047162Z",
     "shell.execute_reply": "2021-10-26T16:49:28.047718Z",
     "shell.execute_reply.started": "2021-10-26T15:54:50.072905Z"
    },
    "papermill": {
     "duration": 0.833469,
     "end_time": "2021-10-26T16:49:28.047919",
     "exception": false,
     "start_time": "2021-10-26T16:49:27.214450",
     "status": "completed"
    },
    "tags": []
   },
   "outputs": [
    {
     "name": "stdout",
     "output_type": "stream",
     "text": [
      "Vocabulary Size = 26767\n"
     ]
    }
   ],
   "source": [
    "# Encode labels\n",
    "le = LabelEncoder()\n",
    "y = le.fit_transform(y)\n",
    "y = to_categorical(y)\n",
    "\n",
    "\n",
    "text_train, text_test, y_train, y_test = train_test_split(X, y, test_size=0.2)\n",
    "\n",
    "# Tokenize words\n",
    "tokenizer = Tokenizer()\n",
    "tokenizer.fit_on_texts(text_train)\n",
    "sequences_train = tokenizer.texts_to_sequences(text_train)\n",
    "sequences_test = tokenizer.texts_to_sequences(text_test)\n",
    "X_train = pad_sequences(sequences_train, maxlen=48, truncating='pre')\n",
    "X_test = pad_sequences(sequences_test, maxlen=48, truncating='pre')\n",
    "\n",
    "vocabSize = len(tokenizer.index_word) + 1\n",
    "print(f\"Vocabulary Size = {vocabSize}\")"
   ]
  },
  {
   "cell_type": "code",
   "execution_count": 6,
   "id": "f60373ee",
   "metadata": {
    "_cell_guid": "b1076dfc-b9ad-4769-8c92-a6c4dae69d19",
    "_uuid": "8f2839f25d086af736a60e9eeb907d3b93b6e0e5",
    "execution": {
     "iopub.execute_input": "2021-10-26T16:49:28.075557Z",
     "iopub.status.busy": "2021-10-26T16:49:28.075042Z",
     "iopub.status.idle": "2021-10-26T16:49:51.595619Z",
     "shell.execute_reply": "2021-10-26T16:49:51.596456Z",
     "shell.execute_reply.started": "2021-10-26T15:54:53.628334Z"
    },
    "papermill": {
     "duration": 23.537763,
     "end_time": "2021-10-26T16:49:51.596661",
     "exception": false,
     "start_time": "2021-10-26T16:49:28.058898",
     "status": "completed"
    },
    "tags": []
   },
   "outputs": [
    {
     "name": "stdout",
     "output_type": "stream",
     "text": [
      "Found 400000 word vectors.\n",
      "Converted 23775 words (2991 misses)\n"
     ]
    }
   ],
   "source": [
    "# Read GloVE embeddings\n",
    "\n",
    "path_to_glove_file = '../input/glove-global-vectors-for-word-representation/glove.6B.200d.txt'\n",
    "num_tokens = vocabSize\n",
    "embedding_dim = 200\n",
    "hits = 0\n",
    "misses = 0\n",
    "embeddings_index = {}\n",
    "\n",
    "# Read word vectors\n",
    "with open(path_to_glove_file) as f:\n",
    "    for line in f:\n",
    "        word, coefs = line.split(maxsplit=1)\n",
    "        coefs = np.fromstring(coefs, \"f\", sep=\" \")\n",
    "        embeddings_index[word] = coefs\n",
    "print(\"Found %s word vectors.\" % len(embeddings_index))\n",
    "\n",
    "\n",
    "# Assign word vectors to our dictionary/vocabulary\n",
    "embedding_matrix = np.zeros((num_tokens, embedding_dim))\n",
    "for word, i in tokenizer.word_index.items():\n",
    "    embedding_vector = embeddings_index.get(word)\n",
    "    if embedding_vector is not None:\n",
    "        # Words not found in embedding index will be all-zeros.\n",
    "        # This includes the representation for \"padding\" and \"OOV\"\n",
    "        embedding_matrix[i] = embedding_vector\n",
    "        hits += 1\n",
    "    else:\n",
    "        misses += 1\n",
    "print(\"Converted %d words (%d misses)\" % (hits, misses))"
   ]
  },
  {
   "cell_type": "code",
   "execution_count": 7,
   "id": "046e28d3",
   "metadata": {
    "_cell_guid": "b1076dfc-b9ad-4769-8c92-a6c4dae69d19",
    "_uuid": "8f2839f25d086af736a60e9eeb907d3b93b6e0e5",
    "execution": {
     "iopub.execute_input": "2021-10-26T16:49:51.623698Z",
     "iopub.status.busy": "2021-10-26T16:49:51.622912Z",
     "iopub.status.idle": "2021-10-26T16:49:54.036199Z",
     "shell.execute_reply": "2021-10-26T16:49:54.036746Z",
     "shell.execute_reply.started": "2021-10-26T15:55:39.248731Z"
    },
    "papermill": {
     "duration": 2.429504,
     "end_time": "2021-10-26T16:49:54.036963",
     "exception": false,
     "start_time": "2021-10-26T16:49:51.607459",
     "status": "completed"
    },
    "tags": []
   },
   "outputs": [
    {
     "name": "stdout",
     "output_type": "stream",
     "text": [
      "Model: \"sequential\"\n",
      "_________________________________________________________________\n",
      "Layer (type)                 Output Shape              Param #   \n",
      "=================================================================\n",
      "embedding (Embedding)        (None, 48, 200)           5353400   \n",
      "_________________________________________________________________\n",
      "lstm (LSTM)                  (None, 48, 256)           467968    \n",
      "_________________________________________________________________\n",
      "lstm_1 (LSTM)                (None, 128)               197120    \n",
      "_________________________________________________________________\n",
      "dense (Dense)                (None, 3)                 387       \n",
      "=================================================================\n",
      "Total params: 6,018,875\n",
      "Trainable params: 665,475\n",
      "Non-trainable params: 5,353,400\n",
      "_________________________________________________________________\n"
     ]
    }
   ],
   "source": [
    "# Build neural network architecture\n",
    "\n",
    "model = Sequential()\n",
    "model.add(Embedding(vocabSize, 200, input_length=X_train.shape[1], weights=[embedding_matrix], trainable=False))\n",
    "model.add(LSTM(256, dropout=0.2,recurrent_dropout=0.2, return_sequences=True))\n",
    "model.add(LSTM(128, dropout=0.2,recurrent_dropout=0.2))\n",
    "model.add(Dense(3, activation='softmax'))\n",
    "\n",
    "model.compile(loss='categorical_crossentropy', optimizer='adam', metrics=['accuracy'])\n",
    "model.summary()"
   ]
  },
  {
   "cell_type": "code",
   "execution_count": 8,
   "id": "dd5f5fd7",
   "metadata": {
    "_cell_guid": "b1076dfc-b9ad-4769-8c92-a6c4dae69d19",
    "_uuid": "8f2839f25d086af736a60e9eeb907d3b93b6e0e5",
    "execution": {
     "iopub.execute_input": "2021-10-26T16:49:54.063257Z",
     "iopub.status.busy": "2021-10-26T16:49:54.062705Z",
     "iopub.status.idle": "2021-10-26T17:02:55.237324Z",
     "shell.execute_reply": "2021-10-26T17:02:55.237769Z",
     "shell.execute_reply.started": "2021-10-26T15:55:46.134438Z"
    },
    "papermill": {
     "duration": 781.189393,
     "end_time": "2021-10-26T17:02:55.237986",
     "exception": false,
     "start_time": "2021-10-26T16:49:54.048593",
     "status": "completed"
    },
    "tags": []
   },
   "outputs": [
    {
     "name": "stdout",
     "output_type": "stream",
     "text": [
      "Epoch 1/10\n",
      "194/194 [==============================] - 79s 383ms/step - loss: 0.8517 - accuracy: 0.5981 - val_loss: 0.4918 - val_accuracy: 0.8136\n",
      "Epoch 2/10\n",
      "194/194 [==============================] - 77s 395ms/step - loss: 0.4781 - accuracy: 0.8080 - val_loss: 0.3182 - val_accuracy: 0.8751\n",
      "Epoch 3/10\n",
      "194/194 [==============================] - 76s 392ms/step - loss: 0.2730 - accuracy: 0.8911 - val_loss: 0.1744 - val_accuracy: 0.9294\n",
      "Epoch 4/10\n",
      "194/194 [==============================] - 77s 397ms/step - loss: 0.1773 - accuracy: 0.9253 - val_loss: 0.1205 - val_accuracy: 0.9492\n",
      "Epoch 5/10\n",
      "194/194 [==============================] - 79s 405ms/step - loss: 0.1260 - accuracy: 0.9446 - val_loss: 0.1110 - val_accuracy: 0.9553\n",
      "Epoch 6/10\n",
      "194/194 [==============================] - 76s 394ms/step - loss: 0.1057 - accuracy: 0.9513 - val_loss: 0.1084 - val_accuracy: 0.9557\n",
      "Epoch 7/10\n",
      "194/194 [==============================] - 79s 410ms/step - loss: 0.1000 - accuracy: 0.9527 - val_loss: 0.0976 - val_accuracy: 0.9573\n",
      "Epoch 8/10\n",
      "194/194 [==============================] - 80s 411ms/step - loss: 0.0942 - accuracy: 0.9548 - val_loss: 0.1022 - val_accuracy: 0.9521\n",
      "Epoch 9/10\n",
      "194/194 [==============================] - 77s 399ms/step - loss: 0.0812 - accuracy: 0.9603 - val_loss: 0.0961 - val_accuracy: 0.9576\n",
      "Epoch 10/10\n",
      "194/194 [==============================] - 80s 414ms/step - loss: 0.0755 - accuracy: 0.9635 - val_loss: 0.1009 - val_accuracy: 0.9566\n"
     ]
    }
   ],
   "source": [
    "history = model.fit(X_train,\n",
    "                    y_train,\n",
    "                    validation_data=(X_test, y_test),\n",
    "                    verbose=1,\n",
    "                    batch_size=64,\n",
    "                    epochs=10)"
   ]
  },
  {
   "cell_type": "code",
   "execution_count": 9,
   "id": "64ace8e7",
   "metadata": {
    "execution": {
     "iopub.execute_input": "2021-10-26T17:02:56.281197Z",
     "iopub.status.busy": "2021-10-26T17:02:56.280056Z",
     "iopub.status.idle": "2021-10-26T17:02:56.519785Z",
     "shell.execute_reply": "2021-10-26T17:02:56.520213Z",
     "shell.execute_reply.started": "2021-10-26T15:22:57.787122Z"
    },
    "papermill": {
     "duration": 0.770584,
     "end_time": "2021-10-26T17:02:56.520362",
     "exception": false,
     "start_time": "2021-10-26T17:02:55.749778",
     "status": "completed"
    },
    "tags": []
   },
   "outputs": [
    {
     "data": {
      "image/png": "[encoded data removed]",
      "text/plain": [
       "<Figure size 432x288 with 1 Axes>"
      ]
     },
     "metadata": {
      "needs_background": "light"
     },
     "output_type": "display_data"
    },
    {
     "data": {
      "image/png": "[encoded data removed]",
      "text/plain": [
       "<Figure size 432x288 with 1 Axes>"
      ]
     },
     "metadata": {
      "needs_background": "light"
     },
     "output_type": "display_data"
    }
   ],
   "source": [
    "# Visualize Loss & Accuracy\n",
    "\n",
    "%matplotlib inline\n",
    "import matplotlib.pyplot as plt\n",
    "acc = history.history['accuracy']\n",
    "val_acc = history.history['val_accuracy']\n",
    "loss = history.history['loss']\n",
    "val_loss = history.history['val_loss']\n",
    "\n",
    "epochs = range(len(acc))\n",
    "\n",
    "plt.plot(epochs, acc, 'r', label='Training accuracy')\n",
    "plt.plot(epochs, val_acc, 'b', label='Validation accuracy')\n",
    "plt.title('Training and validation accuracy')\n",
    "plt.legend()\n",
    "plt.figure()\n",
    "\n",
    "plt.plot(epochs, loss, 'r', label='Training Loss')\n",
    "plt.plot(epochs, val_loss, 'b', label='Validation Loss')\n",
    "plt.title('Training and validation loss')\n",
    "plt.legend()\n",
    "\n",
    "plt.show()"
   ]
  },
  {
   "cell_type": "code",
   "execution_count": 10,
   "id": "5fa4b584",
   "metadata": {
    "execution": {
     "iopub.execute_input": "2021-10-26T17:02:57.563913Z",
     "iopub.status.busy": "2021-10-26T17:02:57.563136Z",
     "iopub.status.idle": "2021-10-26T17:02:59.910492Z",
     "shell.execute_reply": "2021-10-26T17:02:59.909764Z",
     "shell.execute_reply.started": "2021-10-26T15:18:13.175754Z"
    },
    "papermill": {
     "duration": 2.870272,
     "end_time": "2021-10-26T17:02:59.910616",
     "exception": false,
     "start_time": "2021-10-26T17:02:57.040344",
     "status": "completed"
    },
    "tags": []
   },
   "outputs": [
    {
     "name": "stdout",
     "output_type": "stream",
     "text": [
      "97/97 [==============================] - 2s 24ms/step - loss: 0.1009 - accuracy: 0.9566\n"
     ]
    },
    {
     "data": {
      "text/plain": [
       "[0.1008862853050232, 0.9566342830657959]"
      ]
     },
     "execution_count": 10,
     "metadata": {},
     "output_type": "execute_result"
    }
   ],
   "source": [
    "model.evaluate(X_test, y_test, verbose=1)"
   ]
  },
  {
   "cell_type": "code",
   "execution_count": 11,
   "id": "91faca6b",
   "metadata": {
    "_cell_guid": "b1076dfc-b9ad-4769-8c92-a6c4dae69d19",
    "_uuid": "8f2839f25d086af736a60e9eeb907d3b93b6e0e5",
    "execution": {
     "iopub.execute_input": "2021-10-26T17:03:00.953993Z",
     "iopub.status.busy": "2021-10-26T17:03:00.952913Z",
     "iopub.status.idle": "2021-10-26T17:03:01.868806Z",
     "shell.execute_reply": "2021-10-26T17:03:01.868349Z",
     "shell.execute_reply.started": "2021-10-26T15:58:43.768456Z"
    },
    "papermill": {
     "duration": 1.445991,
     "end_time": "2021-10-26T17:03:01.868935",
     "exception": false,
     "start_time": "2021-10-26T17:03:00.422944",
     "status": "completed"
    },
    "tags": []
   },
   "outputs": [
    {
     "name": "stdout",
     "output_type": "stream",
     "text": [
      "Can you imagine how this idea's gonna change the education system!\n",
      "Visual : 0.9996569156646729\n",
      "\n",
      "\n",
      "Brilliant! I can't wait to hear the news about this change!\n",
      "Auditory : 0.9995218515396118\n",
      "\n",
      "\n",
      "Chill out guys, nothing's gonna change, we have to study hard to succeed\n",
      "Kinesthetic : 0.961560070514679\n",
      "\n",
      "\n"
     ]
    }
   ],
   "source": [
    "# Classify custom sample\n",
    "\n",
    "sentences = [\"Can you imagine how this idea's gonna change the education system!\", # Visual\n",
    "             \"Brilliant! I can't wait to hear the news about this change!\", # Auditory\n",
    "             \"Chill out guys, nothing's gonna change, we have to study hard to succeed\" # Kinesthetic\n",
    "            ]\n",
    "for sentence in sentences:\n",
    "    print(sentence)\n",
    "    sentence = clean(sentence)\n",
    "    sentence = tokenizer.texts_to_sequences([sentence])\n",
    "    sentence = pad_sequences(sentence, maxlen=48, truncating='pre')\n",
    "    result = le.inverse_transform(np.argmax(model.predict(sentence), axis=-1))[0]\n",
    "    proba =  np.max(model.predict(sentence))\n",
    "    print(f\"{result} : {proba}\\n\\n\")"
   ]
  },
  {
   "cell_type": "code",
   "execution_count": 12,
   "id": "153d6bd3",
   "metadata": {
    "_cell_guid": "b1076dfc-b9ad-4769-8c92-a6c4dae69d19",
    "_uuid": "8f2839f25d086af736a60e9eeb907d3b93b6e0e5",
    "execution": {
     "iopub.execute_input": "2021-10-26T17:03:02.932801Z",
     "iopub.status.busy": "2021-10-26T17:03:02.931917Z",
     "iopub.status.idle": "2021-10-26T17:03:02.934644Z",
     "shell.execute_reply": "2021-10-26T17:03:02.934231Z"
    },
    "papermill": {
     "duration": 0.535417,
     "end_time": "2021-10-26T17:03:02.934758",
     "exception": false,
     "start_time": "2021-10-26T17:03:02.399341",
     "status": "completed"
    },
    "tags": []
   },
   "outputs": [],
   "source": [
    "# import pickle\n",
    "\n",
    "# with open('tokenizer.pickle', 'wb') as f:\n",
    "#     pickle.dump(tokenizer, f)\n",
    "    \n",
    "# with open('labelEncoder.pickle', 'wb') as f:\n",
    "#     pickle.dump(le, f)\n",
    "    \n",
    "    \n",
    "# model.save('LearningStyleClassifier.h5')"
   ]
  }
 ],
 "metadata": {
  "kernelspec": {
   "display_name": "Python 3",
   "language": "python",
   "name": "python3"
  },
  "language_info": {
   "codemirror_mode": {
    "name": "ipython",
    "version": 3
   },
   "file_extension": ".py",
   "mimetype": "text/x-python",
   "name": "python",
   "nbconvert_exporter": "python",
   "pygments_lexer": "ipython3",
   "version": "3.7.10"
  },
  "papermill": {
   "default_parameters": {},
   "duration": 830.972993,
   "end_time": "2021-10-26T17:03:05.635846",
   "environment_variables": {},
   "exception": null,
   "input_path": "__notebook__.ipynb",
   "output_path": "__notebook__.ipynb",
   "parameters": {},
   "start_time": "2021-10-26T16:49:14.662853",
   "version": "2.3.3"
  }
 },
 "nbformat": 4,
 "nbformat_minor": 5
}
